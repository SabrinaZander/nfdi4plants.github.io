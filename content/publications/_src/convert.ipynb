{
 "cells": [
  {
   "cell_type": "code",
   "execution_count": null,
   "metadata": {
    "dotnet_interactive": {
     "language": "fsharp"
    },
    "polyglot_notebook": {
     "kernelName": "fsharp"
    }
   },
   "outputs": [],
   "source": [
    "#r \"nuget: Deedle.Interactive\"\n",
    "#r \"nuget: FSharpAux\""
   ]
  },
  {
   "cell_type": "code",
   "execution_count": null,
   "metadata": {
    "dotnet_interactive": {
     "language": "fsharp"
    },
    "polyglot_notebook": {
     "kernelName": "fsharp"
    }
   },
   "outputs": [],
   "source": [
    "type Publication = {\n",
    "    PubType   : string\n",
    "    Publisher : string\n",
    "    Title     : string\n",
    "    Year      : int\n",
    "    Authors   : string\n",
    "    DOI       : string\n",
    "    OpenAccess: bool\n",
    "}"
   ]
  },
  {
   "cell_type": "code",
   "execution_count": null,
   "metadata": {
    "dotnet_interactive": {
     "language": "fsharp"
    },
    "polyglot_notebook": {
     "kernelName": "fsharp"
    }
   },
   "outputs": [],
   "source": [
    "open Deedle\n",
    "let df = Frame.ReadCsv(@\"pubs.txt\", separators = \"\\t\", hasHeaders = true)\n",
    "df"
   ]
  },
  {
   "cell_type": "code",
   "execution_count": null,
   "metadata": {
    "dotnet_interactive": {
     "language": "fsharp"
    },
    "polyglot_notebook": {
     "kernelName": "fsharp"
    }
   },
   "outputs": [],
   "source": [
    "let pubs =\n",
    "    df\n",
    "    |> Frame.mapRows (fun rk os ->\n",
    "        {\n",
    "            PubType   = os.GetAs<string>(\"Typ\")\n",
    "            Publisher = os.GetAs<string>(\"Publisher\")\n",
    "            Title     = os.GetAs<string>(\"Titel\")\n",
    "            Year      = os.GetAs<int>(\"Jahr\")\n",
    "            Authors   = os.GetAs<string>(\"Autoren\").Split(\" | \", StringSplitOptions.TrimEntries) |> String.concat \" and \"\n",
    "            DOI       = os.GetAs<string>(\"DOI/PID/URL\")\n",
    "            OpenAccess= os.GetAs<string>(\"Open Access\") = \"open access\"\n",
    "        }\n",
    "    )\n",
    "    |> Series.values\n",
    "    |> Array.ofSeq\n",
    "\n",
    "pubs\n"
   ]
  },
  {
   "cell_type": "code",
   "execution_count": null,
   "metadata": {
    "dotnet_interactive": {
     "language": "fsharp"
    },
    "polyglot_notebook": {
     "kernelName": "fsharp"
    }
   },
   "outputs": [],
   "source": [
    "let cleanType (t: string) =\n",
    "    match t with\n",
    "    | \"Journal Article\" -> \"Journal\"\n",
    "    | \"Conference Paper\" -> \"Conference\"\n",
    "    | \"Book\" -> \"Book\"\n",
    "    | \"Book Chapter\" -> \"Book Chapter\"\n",
    "    | \"Thesis\" -> \"Thesis\"\n",
    "    | _ -> \"Other\"\n"
   ]
  },
  {
   "cell_type": "code",
   "execution_count": null,
   "metadata": {
    "dotnet_interactive": {
     "language": "fsharp"
    },
    "polyglot_notebook": {
     "kernelName": "fsharp"
    }
   },
   "outputs": [],
   "source": [
    "open FSharpAux\n",
    "\n",
    "let formatBibTex index (pub: Publication) = \n",
    "    $$\"\"\"@{{pub.PubType.Replace(\" \", \"_\")}}{[index],\n",
    "author = {{{pub.Authors}}},\n",
    "title = {{{pub.Title}}},\n",
    "journal = {{{pub.Publisher}}},\n",
    "doi = {{{pub.DOI}}},\n",
    "year = {{{pub.Year}}}[[note]]\"\"\"\n",
    "    |> fun bibtex -> if pub.OpenAccess then bibtex.Replace(\"[[note]]\", $$\"\"\",{{System.Environment.NewLine}}note = {open access}\"\"\") else bibtex.Replace(\"[[note]]\", \"\")\n",
    "    |> fun bibtex -> bibtex + System.Environment.NewLine + \"}\"\n",
    "    |> fun bibtex -> bibtex.Replace(\"[index]\", index.ToString())\n",
    "\n",
    "pubs\n",
    "|> Array.iteri (fun i p ->\n",
    "\n",
    "    // not url safe!\n",
    "    let fn = \n",
    "        p.Title\n",
    "        |> Seq.map (fun c -> if Path.GetInvalidFileNameChars() |> Seq.contains c then '_' else c)\n",
    "        |> Array.ofSeq\n",
    "        |> String.fromCharArray\n",
    "        |> fun s -> s.Replace(\" \",\"_\")\n",
    "    File.WriteAllText(\n",
    "        $\"\"\"C:\\Users\\schne\\source\\repos\\nfdi4plants\\nfdi4plants.github.io\\src\\content\\publications\\{i}.bib\"\"\", \n",
    "        formatBibTex i p\n",
    "    )\n",
    ")"
   ]
  },
  {
   "cell_type": "code",
   "execution_count": null,
   "metadata": {
    "dotnet_interactive": {
     "language": "fsharp"
    },
    "polyglot_notebook": {
     "kernelName": "fsharp"
    }
   },
   "outputs": [],
   "source": [
    "open System\n",
    "open System.Text\n",
    "open System.Text.RegularExpressions\n",
    "\n",
    "let parseBibtexStringDirty (bibtex:string) =\n",
    "    let stopChars = [ '\\r'; '\\n'; '\\t' ]\n",
    "\n",
    "    let removeStopChars (s: string) =\n",
    "        s\n",
    "        |> Seq.filter (fun c -> not (stopChars |> Seq.contains c))\n",
    "        |> Array.ofSeq\n",
    "        |> String.fromCharArray\n",
    "\n",
    "\n",
    "    let BibitemSplitRegex = @\".*@(?<type>[^{]+){(?<id>[^,]*),(?<body>.+)}\"\n",
    "    let BibitemBodyAttributesRegex = @\"(?<attribute>[^{}]*)\\s*=\\s*\\{(?<value>(?:[^{}]|(?<open>\\{)|(?<-open>\\}))*(?(open)(?!)))\\}(,|$)\"\n",
    "\n",
    "    let bibitem = removeStopChars(bibtex)\n",
    "    let groups = Regex(BibitemSplitRegex).Match(bibitem).Groups\n",
    "\n",
    "    let pubType = groups.Item(\"type\").Value.Trim()\n",
    "\n",
    "    Regex(BibitemBodyAttributesRegex).Matches(groups.Item(\"body\").Value)\n",
    "    |> Seq.cast<Match>\n",
    "    |> Seq.map (fun m -> m.Groups[\"attribute\"].Value.Trim(), m.Groups[\"value\"].Value.Trim())\n",
    "    |> Seq.append [|\"type\", pubType|]\n",
    "    |> Map.ofSeq\n",
    "    \n",
    "//@\"C:\\Users\\schne\\source\\repos\\nfdi4plants\\nfdi4plants.github.io\\src\\content\\publications\\featured\\datahub.bib\"\n",
    "@\"C:\\Users\\schne\\source\\repos\\nfdi4plants\\nfdi4plants.github.io\\src\\content\\publications\\5.bib\"\n",
    "|> File.ReadAllText\n",
    "|> parseBibtexStringDirty\n"
   ]
  },
  {
   "cell_type": "code",
   "execution_count": null,
   "metadata": {
    "dotnet_interactive": {
     "language": "fsharp"
    },
    "polyglot_notebook": {
     "kernelName": "fsharp"
    }
   },
   "outputs": [],
   "source": [
    "open FSharpAux\n",
    "\n",
    "let formatBibTex (pub: Publication) = \n",
    "    $$\"\"\"@{{pub.PubType.Replace(\" \", \"_\")}}{\n",
    "author = {{{pub.Authors}}},\n",
    "title = {{{pub.Title}}},\n",
    "journal = {{{pub.Publisher}}},\n",
    "doi = {{{pub.DOI}}},\n",
    "year = {{{pub.Year}}}\n",
    "[[note]]\"\"\"\n",
    "    |> fun bibtex -> if pub.OpenAccess then bibtex.Replace(\"[[note]]\", \"note = {open access}\") else bibtex.Replace(\"[[note]]\", \"\")\n",
    "    |> fun bibtex -> bibtex + System.Environment.NewLine + \"}\"\n",
    "\n",
    "pubs\n",
    "|> Array.iteri (fun i p ->\n",
    "\n",
    "    // not url safe!\n",
    "    let fn = \n",
    "        p.Title\n",
    "        |> Seq.map (fun c -> if Path.GetInvalidFileNameChars() |> Seq.contains c then '_' else c)\n",
    "        |> Array.ofSeq\n",
    "        |> String.fromCharArray\n",
    "        |> fun s -> s.Replace(\" \",\"_\")\n",
    "    File.WriteAllText(\n",
    "        $\"\"\"C:\\Users\\schne\\source\\repos\\nfdi4plants\\nfdi4plants.github.io\\src\\content\\publications\\{i}.bib\"\"\", \n",
    "        formatBibTex p\n",
    "    )\n",
    ")"
   ]
  }
 ],
 "metadata": {
  "kernelspec": {
   "display_name": ".NET (C#)",
   "language": "C#",
   "name": ".net-csharp"
  },
  "polyglot_notebook": {
   "kernelInfo": {
    "defaultKernelName": "csharp",
    "items": [
     {
      "aliases": [],
      "name": "csharp"
     },
     {
      "aliases": [],
      "languageName": "fsharp",
      "name": "fsharp"
     }
    ]
   }
  }
 },
 "nbformat": 4,
 "nbformat_minor": 2
}
